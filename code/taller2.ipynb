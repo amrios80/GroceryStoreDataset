{
  "metadata": {
    "kernelspec": {
      "language": "python",
      "display_name": "Python 3",
      "name": "python3"
    },
    "language_info": {
      "name": "python",
      "version": "3.10.14",
      "mimetype": "text/x-python",
      "codemirror_mode": {
        "name": "ipython",
        "version": 3
      },
      "pygments_lexer": "ipython3",
      "nbconvert_exporter": "python",
      "file_extension": ".py"
    },
    "colab": {
      "provenance": [],
      "include_colab_link": true
    }
  },
  "nbformat_minor": 0,
  "nbformat": 4,
  "cells": [
    {
      "cell_type": "markdown",
      "metadata": {
        "id": "view-in-github",
        "colab_type": "text"
      },
      "source": [
        "<a href=\"https://colab.research.google.com/github/amrios80/GroceryStoreDataset/blob/master/code/taller2.ipynb\" target=\"_parent\"><img src=\"https://colab.research.google.com/assets/colab-badge.svg\" alt=\"Open In Colab\"/></a>"
      ]
    },
    {
      "cell_type": "markdown",
      "source": [
        "# TALLER 2\n",
        "\n",
        "### Objetivo:\n",
        "aplicar técnicas de machine learning, las cuales permitan descubrir insights, sugerir accionables al negocio y calcular el valor ganado.\n",
        "\n",
        "### Contexto del negocio\n",
        "Apoyo a un Supermercado Inteligente\n",
        "\n",
        "### Mision\n",
        "Mediante el uso de modelos de Machine Learning, en conjunto con técnicas de preparación de datos, se espera que usted esté en capacidad de construir el modelo que identifique los productos, y argumente el valor que generará al supermercado los resultados que obtenga.\n"
      ],
      "metadata": {
        "id": "65L8-jED_dhA"
      }
    },
    {
      "cell_type": "markdown",
      "source": [
        "## 1. Entendimiento y preparación de los datos:\n",
        "\n",
        "Reporte de entendimiento de datos.\n",
        "\n",
        "*   Dimensiones del dataset\n",
        "*   Caracteristicas de las imagenes\n",
        "*   Indicadores importantes\n",
        "*   Intergracion de tecnicas de aumento de datos\n",
        "*   Determinacion de productos y que categorías a emplear\n"
      ],
      "metadata": {
        "id": "qlRdH4BDAivd"
      }
    },
    {
      "cell_type": "markdown",
      "source": [
        "### Cargar librerias"
      ],
      "metadata": {
        "id": "9yzYtVDSHSxR"
      }
    },
    {
      "cell_type": "code",
      "source": [
        "import pandas as pd\n",
        "import numpy as np\n",
        "import cv2\n",
        "import os\n",
        "import requests\n",
        "\n",
        "\n",
        "#parameters\n",
        "use_local=False\n",
        "rebuild_metadata=False\n",
        "use_randomforest=True\n",
        "use_nn_model_2=False\n",
        "dim_x=128\n",
        "dim_y=128\n",
        "flatten_array_size=dim_x*dim_y\n",
        "\n",
        "model1={ 'name':\"\", 'precision_score':0, 'recall_score':0, 'f1_score':0, 'roc_auc_score': 0  }\n",
        "model2={ 'name':\"\", 'precision_score':0, 'recall_score':0, 'f1_score':0, 'roc_auc_score': 0  }\n",
        "\n"
      ],
      "metadata": {
        "id": "kpOVLhu1HI0T"
      },
      "execution_count": 31,
      "outputs": []
    },
    {
      "cell_type": "markdown",
      "source": [
        "### Generacion del dataset con la metadata y la informacion de las imagenes."
      ],
      "metadata": {
        "id": "ixTiiQbnHw5t"
      }
    },
    {
      "cell_type": "markdown",
      "source": [
        "#####*Unifica metadata de train, test y val en un solo dataset*"
      ],
      "metadata": {
        "id": "fF6JIzA7JRP9"
      }
    },
    {
      "cell_type": "code",
      "source": [
        "url_train=\"https://raw.githubusercontent.com/amrios80/GroceryStoreDataset/refs/heads/master/dataset/train.txt\"\n",
        "url_test=\"https://raw.githubusercontent.com/amrios80/GroceryStoreDataset/refs/heads/master/dataset/test.txt\"\n",
        "url_val=\"https://raw.githubusercontent.com/amrios80/GroceryStoreDataset/refs/heads/master/dataset/val.txt\"\n",
        "data_dir=\"https://raw.githubusercontent.com/amrios80/GroceryStoreDataset/refs/heads/master/dataset/\"\n",
        "df_train=pd.read_csv(url_train)\n",
        "df_train[\"mode\"]=\"train\"\n",
        "df_test=pd.read_csv(url_test)\n",
        "df_test[\"mode\"]=\"test\"\n",
        "df_val=pd.read_csv(url_val)\n",
        "df_val[\"mode\"]=\"val\"\n",
        "img_file_columns=[\"filename\",\"class_id\", \"coarse_class_id\", \"mode\"]\n",
        "df_train.columns=img_file_columns\n",
        "df_test.columns=img_file_columns\n",
        "df_val.columns=img_file_columns\n",
        "\n",
        "df_combined = pd.concat([df_train, df_test, df_val], axis=0, ignore_index=True)\n",
        "\n",
        "print(\"numero de archivos por modo:\")\n",
        "print(df_combined[\"mode\"].value_counts())"
      ],
      "metadata": {
        "colab": {
          "base_uri": "https://localhost:8080/"
        },
        "id": "5D0H0ZgL__Hv",
        "outputId": "a8bffc86-3f6a-426d-a4ca-5864a01d28ff",
        "collapsed": true
      },
      "execution_count": null,
      "outputs": [
        {
          "output_type": "stream",
          "name": "stdout",
          "text": [
            "numero de archivos por modo:\n",
            "mode\n",
            "train    2639\n",
            "test     2484\n",
            "val       295\n",
            "Name: count, dtype: int64\n"
          ]
        }
      ]
    },
    {
      "cell_type": "markdown",
      "source": [
        "##### *Funcion que carga una imagen de una url o un directorio en disco.*"
      ],
      "metadata": {
        "id": "DScGERS9IZb1"
      }
    },
    {
      "cell_type": "code",
      "source": [
        "def load_image(data_dir, filepath):\n",
        "        img_path = os.path.join(data_dir, filepath)\n",
        "        img=[]\n",
        "        if \"http\" in img_path:\n",
        "          url=img_path\n",
        "          response = requests.get(url)\n",
        "          if response.status_code == 200:\n",
        "            image_array = np.asarray(bytearray(response.content), dtype=np.uint8)\n",
        "            img = cv2.imdecode(image_array, cv2.IMREAD_COLOR)\n",
        "            if not img.any():\n",
        "                print(f\"Error loading image: {img_path}\")\n",
        "        else:\n",
        "            img = cv2.imread(img_path)\n",
        "        if not img.any():\n",
        "            return []\n",
        "        return img\n",
        "\n"
      ],
      "metadata": {
        "id": "80VKOENMIJbV"
      },
      "execution_count": null,
      "outputs": []
    },
    {
      "cell_type": "markdown",
      "source": [
        "#####*Agrega la informacion de la imagen (size_x, size_y, size y channels) al dataset inicial (df_combined) mediante la funcion get_metada*"
      ],
      "metadata": {
        "id": "GW4_1NvTI2Mk"
      }
    },
    {
      "cell_type": "code",
      "source": [
        "def get_metadata(df , data_dir=\"C:/sf/src/taller2/GroceryStoreDataset/dataset/\"):\n",
        "    df[\"size_x\"]=0\n",
        "    df[\"size_y\"]=0\n",
        "    df[\"size\"]=0\n",
        "    df[\"channels\"]=0\n",
        "    count=0\n",
        "    for index, row in df.iterrows():\n",
        "        count=count+1\n",
        "        filepath=row[\"filename\"]\n",
        "        img=load_image( data_dir, filepath )\n",
        "        if img.any():\n",
        "            size_y, size_x = img.shape[:2]  # Height, Width\n",
        "            channels = img.shape[2] if len(img.shape) == 3 else 1  # Number of channels\n",
        "            df.loc[index,\"size_x\"]=size_x\n",
        "            df.loc[index,\"size_y\"]=size_y\n",
        "            df.loc[index,\"channels\"]=channels\n",
        "            df.loc[index,\"size\"]=size_x*size_y*channels\n",
        "    print(f'Procesadas {count} imagenes')\n",
        "    return df\n",
        "\n",
        "\n"
      ],
      "metadata": {
        "colab": {
          "base_uri": "https://localhost:8080/"
        },
        "id": "7T-aR678I24t",
        "outputId": "5902684c-4507-4d90-929f-5c50633a1937"
      },
      "execution_count": null,
      "outputs": [
        {
          "output_type": "stream",
          "name": "stdout",
          "text": [
            "Procesadas 5418 imagenes\n"
          ]
        }
      ]
    },
    {
      "cell_type": "code",
      "source": [
        "#data_dir=\"https://raw.githubusercontent.com/amrios80/GroceryStoreDataset/refs/heads/master/dataset/\"\n",
        "#df_metadata=get_metadata( df=df_combined, data_dir=data_dir )\n",
        "df_metadata=[]\n",
        "if rebuild_metadata:\n",
        "    #data_dir=\"https://raw.githubusercontent.com/amrios80/GroceryStoreDataset/refs/heads/master/dataset/\"\n",
        "    df_metadata=get_metadata( df=df_combined, data_dir=data_dir )\n",
        "\n",
        "    df_metadata.to_csv(\"metadata_20241111.csv\", index=False)\n",
        "\n",
        "    df_metadata.head(3)\n",
        "\n",
        "    exit()\n",
        "else:\n",
        "    df_metadata=pd.read_csv(\"https://raw.githubusercontent.com/amrios80/GroceryStoreDataset/refs/heads/master/output/metadata_20241111.csv\")\n"
      ],
      "metadata": {
        "id": "9DOSv4ZOMBbo"
      },
      "execution_count": 23,
      "outputs": []
    },
    {
      "cell_type": "code",
      "source": [
        "df_metadata.head(3)"
      ],
      "metadata": {
        "colab": {
          "base_uri": "https://localhost:8080/",
          "height": 144
        },
        "id": "zZBscouDR9L1",
        "outputId": "5a96ab58-1dad-4d87-f5f4-9958910c507a"
      },
      "execution_count": 24,
      "outputs": [
        {
          "output_type": "execute_result",
          "data": {
            "text/plain": [
              "                                            filename  class_id  \\\n",
              "0  train/Fruit/Apple/Golden-Delicious/Golden-Deli...         0   \n",
              "1  train/Fruit/Apple/Golden-Delicious/Golden-Deli...         0   \n",
              "2  train/Fruit/Apple/Golden-Delicious/Golden-Deli...         0   \n",
              "\n",
              "   coarse_class_id   mode  size_x  size_y    size  channels  \n",
              "0                0  train     348     348  363312         3  \n",
              "1                0  train     348     348  363312         3  \n",
              "2                0  train     348     348  363312         3  "
            ],
            "text/html": [
              "\n",
              "  <div id=\"df-78793f39-5710-41d5-ba57-8ebc16bf9f2e\" class=\"colab-df-container\">\n",
              "    <div>\n",
              "<style scoped>\n",
              "    .dataframe tbody tr th:only-of-type {\n",
              "        vertical-align: middle;\n",
              "    }\n",
              "\n",
              "    .dataframe tbody tr th {\n",
              "        vertical-align: top;\n",
              "    }\n",
              "\n",
              "    .dataframe thead th {\n",
              "        text-align: right;\n",
              "    }\n",
              "</style>\n",
              "<table border=\"1\" class=\"dataframe\">\n",
              "  <thead>\n",
              "    <tr style=\"text-align: right;\">\n",
              "      <th></th>\n",
              "      <th>filename</th>\n",
              "      <th>class_id</th>\n",
              "      <th>coarse_class_id</th>\n",
              "      <th>mode</th>\n",
              "      <th>size_x</th>\n",
              "      <th>size_y</th>\n",
              "      <th>size</th>\n",
              "      <th>channels</th>\n",
              "    </tr>\n",
              "  </thead>\n",
              "  <tbody>\n",
              "    <tr>\n",
              "      <th>0</th>\n",
              "      <td>train/Fruit/Apple/Golden-Delicious/Golden-Deli...</td>\n",
              "      <td>0</td>\n",
              "      <td>0</td>\n",
              "      <td>train</td>\n",
              "      <td>348</td>\n",
              "      <td>348</td>\n",
              "      <td>363312</td>\n",
              "      <td>3</td>\n",
              "    </tr>\n",
              "    <tr>\n",
              "      <th>1</th>\n",
              "      <td>train/Fruit/Apple/Golden-Delicious/Golden-Deli...</td>\n",
              "      <td>0</td>\n",
              "      <td>0</td>\n",
              "      <td>train</td>\n",
              "      <td>348</td>\n",
              "      <td>348</td>\n",
              "      <td>363312</td>\n",
              "      <td>3</td>\n",
              "    </tr>\n",
              "    <tr>\n",
              "      <th>2</th>\n",
              "      <td>train/Fruit/Apple/Golden-Delicious/Golden-Deli...</td>\n",
              "      <td>0</td>\n",
              "      <td>0</td>\n",
              "      <td>train</td>\n",
              "      <td>348</td>\n",
              "      <td>348</td>\n",
              "      <td>363312</td>\n",
              "      <td>3</td>\n",
              "    </tr>\n",
              "  </tbody>\n",
              "</table>\n",
              "</div>\n",
              "    <div class=\"colab-df-buttons\">\n",
              "\n",
              "  <div class=\"colab-df-container\">\n",
              "    <button class=\"colab-df-convert\" onclick=\"convertToInteractive('df-78793f39-5710-41d5-ba57-8ebc16bf9f2e')\"\n",
              "            title=\"Convert this dataframe to an interactive table.\"\n",
              "            style=\"display:none;\">\n",
              "\n",
              "  <svg xmlns=\"http://www.w3.org/2000/svg\" height=\"24px\" viewBox=\"0 -960 960 960\">\n",
              "    <path d=\"M120-120v-720h720v720H120Zm60-500h600v-160H180v160Zm220 220h160v-160H400v160Zm0 220h160v-160H400v160ZM180-400h160v-160H180v160Zm440 0h160v-160H620v160ZM180-180h160v-160H180v160Zm440 0h160v-160H620v160Z\"/>\n",
              "  </svg>\n",
              "    </button>\n",
              "\n",
              "  <style>\n",
              "    .colab-df-container {\n",
              "      display:flex;\n",
              "      gap: 12px;\n",
              "    }\n",
              "\n",
              "    .colab-df-convert {\n",
              "      background-color: #E8F0FE;\n",
              "      border: none;\n",
              "      border-radius: 50%;\n",
              "      cursor: pointer;\n",
              "      display: none;\n",
              "      fill: #1967D2;\n",
              "      height: 32px;\n",
              "      padding: 0 0 0 0;\n",
              "      width: 32px;\n",
              "    }\n",
              "\n",
              "    .colab-df-convert:hover {\n",
              "      background-color: #E2EBFA;\n",
              "      box-shadow: 0px 1px 2px rgba(60, 64, 67, 0.3), 0px 1px 3px 1px rgba(60, 64, 67, 0.15);\n",
              "      fill: #174EA6;\n",
              "    }\n",
              "\n",
              "    .colab-df-buttons div {\n",
              "      margin-bottom: 4px;\n",
              "    }\n",
              "\n",
              "    [theme=dark] .colab-df-convert {\n",
              "      background-color: #3B4455;\n",
              "      fill: #D2E3FC;\n",
              "    }\n",
              "\n",
              "    [theme=dark] .colab-df-convert:hover {\n",
              "      background-color: #434B5C;\n",
              "      box-shadow: 0px 1px 3px 1px rgba(0, 0, 0, 0.15);\n",
              "      filter: drop-shadow(0px 1px 2px rgba(0, 0, 0, 0.3));\n",
              "      fill: #FFFFFF;\n",
              "    }\n",
              "  </style>\n",
              "\n",
              "    <script>\n",
              "      const buttonEl =\n",
              "        document.querySelector('#df-78793f39-5710-41d5-ba57-8ebc16bf9f2e button.colab-df-convert');\n",
              "      buttonEl.style.display =\n",
              "        google.colab.kernel.accessAllowed ? 'block' : 'none';\n",
              "\n",
              "      async function convertToInteractive(key) {\n",
              "        const element = document.querySelector('#df-78793f39-5710-41d5-ba57-8ebc16bf9f2e');\n",
              "        const dataTable =\n",
              "          await google.colab.kernel.invokeFunction('convertToInteractive',\n",
              "                                                    [key], {});\n",
              "        if (!dataTable) return;\n",
              "\n",
              "        const docLinkHtml = 'Like what you see? Visit the ' +\n",
              "          '<a target=\"_blank\" href=https://colab.research.google.com/notebooks/data_table.ipynb>data table notebook</a>'\n",
              "          + ' to learn more about interactive tables.';\n",
              "        element.innerHTML = '';\n",
              "        dataTable['output_type'] = 'display_data';\n",
              "        await google.colab.output.renderOutput(dataTable, element);\n",
              "        const docLink = document.createElement('div');\n",
              "        docLink.innerHTML = docLinkHtml;\n",
              "        element.appendChild(docLink);\n",
              "      }\n",
              "    </script>\n",
              "  </div>\n",
              "\n",
              "\n",
              "<div id=\"df-d950641e-f4d9-442c-ba8b-1a67e5f5c31f\">\n",
              "  <button class=\"colab-df-quickchart\" onclick=\"quickchart('df-d950641e-f4d9-442c-ba8b-1a67e5f5c31f')\"\n",
              "            title=\"Suggest charts\"\n",
              "            style=\"display:none;\">\n",
              "\n",
              "<svg xmlns=\"http://www.w3.org/2000/svg\" height=\"24px\"viewBox=\"0 0 24 24\"\n",
              "     width=\"24px\">\n",
              "    <g>\n",
              "        <path d=\"M19 3H5c-1.1 0-2 .9-2 2v14c0 1.1.9 2 2 2h14c1.1 0 2-.9 2-2V5c0-1.1-.9-2-2-2zM9 17H7v-7h2v7zm4 0h-2V7h2v10zm4 0h-2v-4h2v4z\"/>\n",
              "    </g>\n",
              "</svg>\n",
              "  </button>\n",
              "\n",
              "<style>\n",
              "  .colab-df-quickchart {\n",
              "      --bg-color: #E8F0FE;\n",
              "      --fill-color: #1967D2;\n",
              "      --hover-bg-color: #E2EBFA;\n",
              "      --hover-fill-color: #174EA6;\n",
              "      --disabled-fill-color: #AAA;\n",
              "      --disabled-bg-color: #DDD;\n",
              "  }\n",
              "\n",
              "  [theme=dark] .colab-df-quickchart {\n",
              "      --bg-color: #3B4455;\n",
              "      --fill-color: #D2E3FC;\n",
              "      --hover-bg-color: #434B5C;\n",
              "      --hover-fill-color: #FFFFFF;\n",
              "      --disabled-bg-color: #3B4455;\n",
              "      --disabled-fill-color: #666;\n",
              "  }\n",
              "\n",
              "  .colab-df-quickchart {\n",
              "    background-color: var(--bg-color);\n",
              "    border: none;\n",
              "    border-radius: 50%;\n",
              "    cursor: pointer;\n",
              "    display: none;\n",
              "    fill: var(--fill-color);\n",
              "    height: 32px;\n",
              "    padding: 0;\n",
              "    width: 32px;\n",
              "  }\n",
              "\n",
              "  .colab-df-quickchart:hover {\n",
              "    background-color: var(--hover-bg-color);\n",
              "    box-shadow: 0 1px 2px rgba(60, 64, 67, 0.3), 0 1px 3px 1px rgba(60, 64, 67, 0.15);\n",
              "    fill: var(--button-hover-fill-color);\n",
              "  }\n",
              "\n",
              "  .colab-df-quickchart-complete:disabled,\n",
              "  .colab-df-quickchart-complete:disabled:hover {\n",
              "    background-color: var(--disabled-bg-color);\n",
              "    fill: var(--disabled-fill-color);\n",
              "    box-shadow: none;\n",
              "  }\n",
              "\n",
              "  .colab-df-spinner {\n",
              "    border: 2px solid var(--fill-color);\n",
              "    border-color: transparent;\n",
              "    border-bottom-color: var(--fill-color);\n",
              "    animation:\n",
              "      spin 1s steps(1) infinite;\n",
              "  }\n",
              "\n",
              "  @keyframes spin {\n",
              "    0% {\n",
              "      border-color: transparent;\n",
              "      border-bottom-color: var(--fill-color);\n",
              "      border-left-color: var(--fill-color);\n",
              "    }\n",
              "    20% {\n",
              "      border-color: transparent;\n",
              "      border-left-color: var(--fill-color);\n",
              "      border-top-color: var(--fill-color);\n",
              "    }\n",
              "    30% {\n",
              "      border-color: transparent;\n",
              "      border-left-color: var(--fill-color);\n",
              "      border-top-color: var(--fill-color);\n",
              "      border-right-color: var(--fill-color);\n",
              "    }\n",
              "    40% {\n",
              "      border-color: transparent;\n",
              "      border-right-color: var(--fill-color);\n",
              "      border-top-color: var(--fill-color);\n",
              "    }\n",
              "    60% {\n",
              "      border-color: transparent;\n",
              "      border-right-color: var(--fill-color);\n",
              "    }\n",
              "    80% {\n",
              "      border-color: transparent;\n",
              "      border-right-color: var(--fill-color);\n",
              "      border-bottom-color: var(--fill-color);\n",
              "    }\n",
              "    90% {\n",
              "      border-color: transparent;\n",
              "      border-bottom-color: var(--fill-color);\n",
              "    }\n",
              "  }\n",
              "</style>\n",
              "\n",
              "  <script>\n",
              "    async function quickchart(key) {\n",
              "      const quickchartButtonEl =\n",
              "        document.querySelector('#' + key + ' button');\n",
              "      quickchartButtonEl.disabled = true;  // To prevent multiple clicks.\n",
              "      quickchartButtonEl.classList.add('colab-df-spinner');\n",
              "      try {\n",
              "        const charts = await google.colab.kernel.invokeFunction(\n",
              "            'suggestCharts', [key], {});\n",
              "      } catch (error) {\n",
              "        console.error('Error during call to suggestCharts:', error);\n",
              "      }\n",
              "      quickchartButtonEl.classList.remove('colab-df-spinner');\n",
              "      quickchartButtonEl.classList.add('colab-df-quickchart-complete');\n",
              "    }\n",
              "    (() => {\n",
              "      let quickchartButtonEl =\n",
              "        document.querySelector('#df-d950641e-f4d9-442c-ba8b-1a67e5f5c31f button');\n",
              "      quickchartButtonEl.style.display =\n",
              "        google.colab.kernel.accessAllowed ? 'block' : 'none';\n",
              "    })();\n",
              "  </script>\n",
              "</div>\n",
              "\n",
              "    </div>\n",
              "  </div>\n"
            ],
            "application/vnd.google.colaboratory.intrinsic+json": {
              "type": "dataframe",
              "variable_name": "df_metadata",
              "summary": "{\n  \"name\": \"df_metadata\",\n  \"rows\": 5418,\n  \"fields\": [\n    {\n      \"column\": \"filename\",\n      \"properties\": {\n        \"dtype\": \"string\",\n        \"num_unique_values\": 5418,\n        \"samples\": [\n          \"test/Vegetables/Cabbage/Cabbage_018.jpg\",\n          \"train/Packages/Milk/Garant-Ecological-Medium-Fat-Milk/Garant-Ecological-Medium-Fat-Milk_032.jpg\",\n          \"train/Fruit/Avocado/Avocado_039.jpg\"\n        ],\n        \"semantic_type\": \"\",\n        \"description\": \"\"\n      }\n    },\n    {\n      \"column\": \"class_id\",\n      \"properties\": {\n        \"dtype\": \"number\",\n        \"std\": 24,\n        \"min\": 0,\n        \"max\": 80,\n        \"num_unique_values\": 81,\n        \"samples\": [\n          30,\n          0,\n          22\n        ],\n        \"semantic_type\": \"\",\n        \"description\": \"\"\n      }\n    },\n    {\n      \"column\": \"coarse_class_id\",\n      \"properties\": {\n        \"dtype\": \"number\",\n        \"std\": 12,\n        \"min\": 0,\n        \"max\": 42,\n        \"num_unique_values\": 43,\n        \"samples\": [\n          37,\n          24,\n          25\n        ],\n        \"semantic_type\": \"\",\n        \"description\": \"\"\n      }\n    },\n    {\n      \"column\": \"mode\",\n      \"properties\": {\n        \"dtype\": \"category\",\n        \"num_unique_values\": 3,\n        \"samples\": [\n          \"train\",\n          \"test\",\n          \"val\"\n        ],\n        \"semantic_type\": \"\",\n        \"description\": \"\"\n      }\n    },\n    {\n      \"column\": \"size_x\",\n      \"properties\": {\n        \"dtype\": \"number\",\n        \"std\": 9,\n        \"min\": 348,\n        \"max\": 464,\n        \"num_unique_values\": 2,\n        \"samples\": [\n          464,\n          348\n        ],\n        \"semantic_type\": \"\",\n        \"description\": \"\"\n      }\n    },\n    {\n      \"column\": \"size_y\",\n      \"properties\": {\n        \"dtype\": \"number\",\n        \"std\": 31,\n        \"min\": 348,\n        \"max\": 464,\n        \"num_unique_values\": 2,\n        \"samples\": [\n          464,\n          348\n        ],\n        \"semantic_type\": \"\",\n        \"description\": \"\"\n      }\n    },\n    {\n      \"column\": \"size\",\n      \"properties\": {\n        \"dtype\": \"number\",\n        \"std\": 33858,\n        \"min\": 363312,\n        \"max\": 484416,\n        \"num_unique_values\": 2,\n        \"samples\": [\n          484416,\n          363312\n        ],\n        \"semantic_type\": \"\",\n        \"description\": \"\"\n      }\n    },\n    {\n      \"column\": \"channels\",\n      \"properties\": {\n        \"dtype\": \"number\",\n        \"std\": 0,\n        \"min\": 3,\n        \"max\": 3,\n        \"num_unique_values\": 1,\n        \"samples\": [\n          3\n        ],\n        \"semantic_type\": \"\",\n        \"description\": \"\"\n      }\n    }\n  ]\n}"
            }
          },
          "metadata": {},
          "execution_count": 24
        }
      ]
    },
    {
      "cell_type": "markdown",
      "source": [
        "## 1.1. Dimensiones del dataset\n",
        "\n"
      ],
      "metadata": {
        "id": "W28kD0VTzE9V"
      }
    },
    {
      "cell_type": "code",
      "source": [
        "print(\"numero de imagenes \" + str(df_metadata[df_metadata[\"filename\"].str.contains(\".jpg\")].shape[0]) )\n",
        "print(\"archivos por modo:\" + str(df_metadata[\"mode\"].value_counts() ))\n"
      ],
      "metadata": {
        "id": "qjDwXFACzfUM",
        "outputId": "628dc489-3102-4c8b-a415-aa61ef42c63b",
        "colab": {
          "base_uri": "https://localhost:8080/"
        }
      },
      "execution_count": 25,
      "outputs": [
        {
          "output_type": "stream",
          "name": "stdout",
          "text": [
            "numero de imagenes 5418\n",
            "archivos por modo:mode\n",
            "train    2639\n",
            "test     2484\n",
            "val       295\n",
            "Name: count, dtype: int64\n"
          ]
        }
      ]
    },
    {
      "cell_type": "markdown",
      "source": [
        "## 1.2 Caracteristicas de las imagenes\n",
        "\n"
      ],
      "metadata": {
        "id": "wVy5G-4x0ipV"
      }
    },
    {
      "cell_type": "code",
      "source": [
        "df_metadata[[\"size\",\"size_x\",\"size_y\",\"channels\"]].describe()"
      ],
      "metadata": {
        "id": "Hnkk2uh10pT5",
        "outputId": "fdf1d7c2-e4c2-43d1-cb50-3e174919d569",
        "colab": {
          "base_uri": "https://localhost:8080/",
          "height": 301
        }
      },
      "execution_count": 26,
      "outputs": [
        {
          "output_type": "execute_result",
          "data": {
            "text/plain": [
              "                size       size_x       size_y  channels\n",
              "count    5418.000000  5418.000000  5418.000000    5418.0\n",
              "mean   373661.049834   348.792174   357.120709       3.0\n",
              "std     33858.825929     9.554136    31.224907       0.0\n",
              "min    363312.000000   348.000000   348.000000       3.0\n",
              "25%    363312.000000   348.000000   348.000000       3.0\n",
              "50%    363312.000000   348.000000   348.000000       3.0\n",
              "75%    363312.000000   348.000000   348.000000       3.0\n",
              "max    484416.000000   464.000000   464.000000       3.0"
            ],
            "text/html": [
              "\n",
              "  <div id=\"df-82f4e6f6-7c33-4922-93a3-6c915c9d2a0b\" class=\"colab-df-container\">\n",
              "    <div>\n",
              "<style scoped>\n",
              "    .dataframe tbody tr th:only-of-type {\n",
              "        vertical-align: middle;\n",
              "    }\n",
              "\n",
              "    .dataframe tbody tr th {\n",
              "        vertical-align: top;\n",
              "    }\n",
              "\n",
              "    .dataframe thead th {\n",
              "        text-align: right;\n",
              "    }\n",
              "</style>\n",
              "<table border=\"1\" class=\"dataframe\">\n",
              "  <thead>\n",
              "    <tr style=\"text-align: right;\">\n",
              "      <th></th>\n",
              "      <th>size</th>\n",
              "      <th>size_x</th>\n",
              "      <th>size_y</th>\n",
              "      <th>channels</th>\n",
              "    </tr>\n",
              "  </thead>\n",
              "  <tbody>\n",
              "    <tr>\n",
              "      <th>count</th>\n",
              "      <td>5418.000000</td>\n",
              "      <td>5418.000000</td>\n",
              "      <td>5418.000000</td>\n",
              "      <td>5418.0</td>\n",
              "    </tr>\n",
              "    <tr>\n",
              "      <th>mean</th>\n",
              "      <td>373661.049834</td>\n",
              "      <td>348.792174</td>\n",
              "      <td>357.120709</td>\n",
              "      <td>3.0</td>\n",
              "    </tr>\n",
              "    <tr>\n",
              "      <th>std</th>\n",
              "      <td>33858.825929</td>\n",
              "      <td>9.554136</td>\n",
              "      <td>31.224907</td>\n",
              "      <td>0.0</td>\n",
              "    </tr>\n",
              "    <tr>\n",
              "      <th>min</th>\n",
              "      <td>363312.000000</td>\n",
              "      <td>348.000000</td>\n",
              "      <td>348.000000</td>\n",
              "      <td>3.0</td>\n",
              "    </tr>\n",
              "    <tr>\n",
              "      <th>25%</th>\n",
              "      <td>363312.000000</td>\n",
              "      <td>348.000000</td>\n",
              "      <td>348.000000</td>\n",
              "      <td>3.0</td>\n",
              "    </tr>\n",
              "    <tr>\n",
              "      <th>50%</th>\n",
              "      <td>363312.000000</td>\n",
              "      <td>348.000000</td>\n",
              "      <td>348.000000</td>\n",
              "      <td>3.0</td>\n",
              "    </tr>\n",
              "    <tr>\n",
              "      <th>75%</th>\n",
              "      <td>363312.000000</td>\n",
              "      <td>348.000000</td>\n",
              "      <td>348.000000</td>\n",
              "      <td>3.0</td>\n",
              "    </tr>\n",
              "    <tr>\n",
              "      <th>max</th>\n",
              "      <td>484416.000000</td>\n",
              "      <td>464.000000</td>\n",
              "      <td>464.000000</td>\n",
              "      <td>3.0</td>\n",
              "    </tr>\n",
              "  </tbody>\n",
              "</table>\n",
              "</div>\n",
              "    <div class=\"colab-df-buttons\">\n",
              "\n",
              "  <div class=\"colab-df-container\">\n",
              "    <button class=\"colab-df-convert\" onclick=\"convertToInteractive('df-82f4e6f6-7c33-4922-93a3-6c915c9d2a0b')\"\n",
              "            title=\"Convert this dataframe to an interactive table.\"\n",
              "            style=\"display:none;\">\n",
              "\n",
              "  <svg xmlns=\"http://www.w3.org/2000/svg\" height=\"24px\" viewBox=\"0 -960 960 960\">\n",
              "    <path d=\"M120-120v-720h720v720H120Zm60-500h600v-160H180v160Zm220 220h160v-160H400v160Zm0 220h160v-160H400v160ZM180-400h160v-160H180v160Zm440 0h160v-160H620v160ZM180-180h160v-160H180v160Zm440 0h160v-160H620v160Z\"/>\n",
              "  </svg>\n",
              "    </button>\n",
              "\n",
              "  <style>\n",
              "    .colab-df-container {\n",
              "      display:flex;\n",
              "      gap: 12px;\n",
              "    }\n",
              "\n",
              "    .colab-df-convert {\n",
              "      background-color: #E8F0FE;\n",
              "      border: none;\n",
              "      border-radius: 50%;\n",
              "      cursor: pointer;\n",
              "      display: none;\n",
              "      fill: #1967D2;\n",
              "      height: 32px;\n",
              "      padding: 0 0 0 0;\n",
              "      width: 32px;\n",
              "    }\n",
              "\n",
              "    .colab-df-convert:hover {\n",
              "      background-color: #E2EBFA;\n",
              "      box-shadow: 0px 1px 2px rgba(60, 64, 67, 0.3), 0px 1px 3px 1px rgba(60, 64, 67, 0.15);\n",
              "      fill: #174EA6;\n",
              "    }\n",
              "\n",
              "    .colab-df-buttons div {\n",
              "      margin-bottom: 4px;\n",
              "    }\n",
              "\n",
              "    [theme=dark] .colab-df-convert {\n",
              "      background-color: #3B4455;\n",
              "      fill: #D2E3FC;\n",
              "    }\n",
              "\n",
              "    [theme=dark] .colab-df-convert:hover {\n",
              "      background-color: #434B5C;\n",
              "      box-shadow: 0px 1px 3px 1px rgba(0, 0, 0, 0.15);\n",
              "      filter: drop-shadow(0px 1px 2px rgba(0, 0, 0, 0.3));\n",
              "      fill: #FFFFFF;\n",
              "    }\n",
              "  </style>\n",
              "\n",
              "    <script>\n",
              "      const buttonEl =\n",
              "        document.querySelector('#df-82f4e6f6-7c33-4922-93a3-6c915c9d2a0b button.colab-df-convert');\n",
              "      buttonEl.style.display =\n",
              "        google.colab.kernel.accessAllowed ? 'block' : 'none';\n",
              "\n",
              "      async function convertToInteractive(key) {\n",
              "        const element = document.querySelector('#df-82f4e6f6-7c33-4922-93a3-6c915c9d2a0b');\n",
              "        const dataTable =\n",
              "          await google.colab.kernel.invokeFunction('convertToInteractive',\n",
              "                                                    [key], {});\n",
              "        if (!dataTable) return;\n",
              "\n",
              "        const docLinkHtml = 'Like what you see? Visit the ' +\n",
              "          '<a target=\"_blank\" href=https://colab.research.google.com/notebooks/data_table.ipynb>data table notebook</a>'\n",
              "          + ' to learn more about interactive tables.';\n",
              "        element.innerHTML = '';\n",
              "        dataTable['output_type'] = 'display_data';\n",
              "        await google.colab.output.renderOutput(dataTable, element);\n",
              "        const docLink = document.createElement('div');\n",
              "        docLink.innerHTML = docLinkHtml;\n",
              "        element.appendChild(docLink);\n",
              "      }\n",
              "    </script>\n",
              "  </div>\n",
              "\n",
              "\n",
              "<div id=\"df-2a8b7162-b913-41e6-a69a-3e6901f2d19a\">\n",
              "  <button class=\"colab-df-quickchart\" onclick=\"quickchart('df-2a8b7162-b913-41e6-a69a-3e6901f2d19a')\"\n",
              "            title=\"Suggest charts\"\n",
              "            style=\"display:none;\">\n",
              "\n",
              "<svg xmlns=\"http://www.w3.org/2000/svg\" height=\"24px\"viewBox=\"0 0 24 24\"\n",
              "     width=\"24px\">\n",
              "    <g>\n",
              "        <path d=\"M19 3H5c-1.1 0-2 .9-2 2v14c0 1.1.9 2 2 2h14c1.1 0 2-.9 2-2V5c0-1.1-.9-2-2-2zM9 17H7v-7h2v7zm4 0h-2V7h2v10zm4 0h-2v-4h2v4z\"/>\n",
              "    </g>\n",
              "</svg>\n",
              "  </button>\n",
              "\n",
              "<style>\n",
              "  .colab-df-quickchart {\n",
              "      --bg-color: #E8F0FE;\n",
              "      --fill-color: #1967D2;\n",
              "      --hover-bg-color: #E2EBFA;\n",
              "      --hover-fill-color: #174EA6;\n",
              "      --disabled-fill-color: #AAA;\n",
              "      --disabled-bg-color: #DDD;\n",
              "  }\n",
              "\n",
              "  [theme=dark] .colab-df-quickchart {\n",
              "      --bg-color: #3B4455;\n",
              "      --fill-color: #D2E3FC;\n",
              "      --hover-bg-color: #434B5C;\n",
              "      --hover-fill-color: #FFFFFF;\n",
              "      --disabled-bg-color: #3B4455;\n",
              "      --disabled-fill-color: #666;\n",
              "  }\n",
              "\n",
              "  .colab-df-quickchart {\n",
              "    background-color: var(--bg-color);\n",
              "    border: none;\n",
              "    border-radius: 50%;\n",
              "    cursor: pointer;\n",
              "    display: none;\n",
              "    fill: var(--fill-color);\n",
              "    height: 32px;\n",
              "    padding: 0;\n",
              "    width: 32px;\n",
              "  }\n",
              "\n",
              "  .colab-df-quickchart:hover {\n",
              "    background-color: var(--hover-bg-color);\n",
              "    box-shadow: 0 1px 2px rgba(60, 64, 67, 0.3), 0 1px 3px 1px rgba(60, 64, 67, 0.15);\n",
              "    fill: var(--button-hover-fill-color);\n",
              "  }\n",
              "\n",
              "  .colab-df-quickchart-complete:disabled,\n",
              "  .colab-df-quickchart-complete:disabled:hover {\n",
              "    background-color: var(--disabled-bg-color);\n",
              "    fill: var(--disabled-fill-color);\n",
              "    box-shadow: none;\n",
              "  }\n",
              "\n",
              "  .colab-df-spinner {\n",
              "    border: 2px solid var(--fill-color);\n",
              "    border-color: transparent;\n",
              "    border-bottom-color: var(--fill-color);\n",
              "    animation:\n",
              "      spin 1s steps(1) infinite;\n",
              "  }\n",
              "\n",
              "  @keyframes spin {\n",
              "    0% {\n",
              "      border-color: transparent;\n",
              "      border-bottom-color: var(--fill-color);\n",
              "      border-left-color: var(--fill-color);\n",
              "    }\n",
              "    20% {\n",
              "      border-color: transparent;\n",
              "      border-left-color: var(--fill-color);\n",
              "      border-top-color: var(--fill-color);\n",
              "    }\n",
              "    30% {\n",
              "      border-color: transparent;\n",
              "      border-left-color: var(--fill-color);\n",
              "      border-top-color: var(--fill-color);\n",
              "      border-right-color: var(--fill-color);\n",
              "    }\n",
              "    40% {\n",
              "      border-color: transparent;\n",
              "      border-right-color: var(--fill-color);\n",
              "      border-top-color: var(--fill-color);\n",
              "    }\n",
              "    60% {\n",
              "      border-color: transparent;\n",
              "      border-right-color: var(--fill-color);\n",
              "    }\n",
              "    80% {\n",
              "      border-color: transparent;\n",
              "      border-right-color: var(--fill-color);\n",
              "      border-bottom-color: var(--fill-color);\n",
              "    }\n",
              "    90% {\n",
              "      border-color: transparent;\n",
              "      border-bottom-color: var(--fill-color);\n",
              "    }\n",
              "  }\n",
              "</style>\n",
              "\n",
              "  <script>\n",
              "    async function quickchart(key) {\n",
              "      const quickchartButtonEl =\n",
              "        document.querySelector('#' + key + ' button');\n",
              "      quickchartButtonEl.disabled = true;  // To prevent multiple clicks.\n",
              "      quickchartButtonEl.classList.add('colab-df-spinner');\n",
              "      try {\n",
              "        const charts = await google.colab.kernel.invokeFunction(\n",
              "            'suggestCharts', [key], {});\n",
              "      } catch (error) {\n",
              "        console.error('Error during call to suggestCharts:', error);\n",
              "      }\n",
              "      quickchartButtonEl.classList.remove('colab-df-spinner');\n",
              "      quickchartButtonEl.classList.add('colab-df-quickchart-complete');\n",
              "    }\n",
              "    (() => {\n",
              "      let quickchartButtonEl =\n",
              "        document.querySelector('#df-2a8b7162-b913-41e6-a69a-3e6901f2d19a button');\n",
              "      quickchartButtonEl.style.display =\n",
              "        google.colab.kernel.accessAllowed ? 'block' : 'none';\n",
              "    })();\n",
              "  </script>\n",
              "</div>\n",
              "\n",
              "    </div>\n",
              "  </div>\n"
            ],
            "application/vnd.google.colaboratory.intrinsic+json": {
              "type": "dataframe",
              "summary": "{\n  \"name\": \"df_metadata[[\\\"size\\\",\\\"size_x\\\",\\\"size_y\\\",\\\"channels\\\"]]\",\n  \"rows\": 8,\n  \"fields\": [\n    {\n      \"column\": \"size\",\n      \"properties\": {\n        \"dtype\": \"number\",\n        \"std\": 174345.10363050582,\n        \"min\": 5418.0,\n        \"max\": 484416.0,\n        \"num_unique_values\": 5,\n        \"samples\": [\n          373661.049833887,\n          484416.0,\n          33858.8259294422\n        ],\n        \"semantic_type\": \"\",\n        \"description\": \"\"\n      }\n    },\n    {\n      \"column\": \"size_x\",\n      \"properties\": {\n        \"dtype\": \"number\",\n        \"std\": 1808.4956055471546,\n        \"min\": 9.554136222418641,\n        \"max\": 5418.0,\n        \"num_unique_values\": 5,\n        \"samples\": [\n          348.7921742340347,\n          464.0,\n          9.554136222418641\n        ],\n        \"semantic_type\": \"\",\n        \"description\": \"\"\n      }\n    },\n    {\n      \"column\": \"size_y\",\n      \"properties\": {\n        \"dtype\": \"number\",\n        \"std\": 1806.4963584959467,\n        \"min\": 31.224907389989184,\n        \"max\": 5418.0,\n        \"num_unique_values\": 5,\n        \"samples\": [\n          357.1207087486157,\n          464.0,\n          31.224907389989184\n        ],\n        \"semantic_type\": \"\",\n        \"description\": \"\"\n      }\n    },\n    {\n      \"column\": \"channels\",\n      \"properties\": {\n        \"dtype\": \"number\",\n        \"std\": 1914.6434207369864,\n        \"min\": 0.0,\n        \"max\": 5418.0,\n        \"num_unique_values\": 3,\n        \"samples\": [\n          5418.0,\n          3.0,\n          0.0\n        ],\n        \"semantic_type\": \"\",\n        \"description\": \"\"\n      }\n    }\n  ]\n}"
            }
          },
          "metadata": {},
          "execution_count": 26
        }
      ]
    },
    {
      "cell_type": "markdown",
      "source": [
        "## 1.3 Indicadores"
      ],
      "metadata": {
        "id": "eb0CE3Op7-vD"
      }
    },
    {
      "cell_type": "code",
      "source": [
        "print(\"cantidad de clases        :\"+str(df_metadata[\"class_id\"].nunique()))\n",
        "print(\"cantidad de coarse classes:\"+str(df_metadata[\"coarse_class_id\"].nunique()))\n",
        "print(\"Tamaño en disco           :\"+str(df_metadata[\"size\"].sum()/8000000 )+ \" MB \")\n",
        "print(\"numero de archivos        :\"+str(df_metadata.shape[0]))\n",
        "print(\"Size promedio             :\"+str(df_metadata[\"size\"].mean()/1000 )+ \" KB\")\n",
        "print(\"Categorias                : 3   (Fruit, Packages, Vegetables)\")"
      ],
      "metadata": {
        "id": "r3ZO-qFM76Gv",
        "outputId": "637727eb-ac05-45b9-ca7b-d43b4bf4712f",
        "colab": {
          "base_uri": "https://localhost:8080/"
        }
      },
      "execution_count": 27,
      "outputs": [
        {
          "output_type": "stream",
          "name": "stdout",
          "text": [
            "cantidad de clases        :81\n",
            "cantidad de coarse classes:43\n",
            "Tamaño en disco           :253.061946 MB \n",
            "numero de archivos        :5418\n",
            "Size promedio             :373.66104983388703 KB\n",
            "Categorias                : 3   (Fruit, Packages, Vegetables)\n"
          ]
        }
      ]
    },
    {
      "cell_type": "markdown",
      "source": [
        "## 1.4 Aumento de datos"
      ],
      "metadata": {
        "id": "7WUC6CKR8ucu"
      }
    },
    {
      "cell_type": "code",
      "source": [
        "import tensorflow as tf\n",
        "import numpy as np\n",
        "\n",
        "def preprocess_image(img_path, image_size, flip_horizontal=True, flip_vertical=True, scale_factor=1.0):\n",
        "    # Load the image\n",
        "    img = tf.keras.preprocessing.image.load_img(img_path, target_size=image_size)\n",
        "    img = tf.keras.preprocessing.image.img_to_array(img)\n",
        "    # Flip the image horizontally\n",
        "    if flip_horizontal:\n",
        "        img = tf.image.flip_left_right(img)\n",
        "    # Flip the image vertically\n",
        "    if flip_vertical:\n",
        "        img = tf.image.flip_up_down(img)\n",
        "    # Scale the image\n",
        "    img = tf.image.resize(img, [int(image_size[0] * scale_factor), int(image_size[1] * scale_factor)])\n",
        "    # Expand dimensions and preprocess for DenseNet\n",
        "    img = np.expand_dims(img, axis=0)\n",
        "    img = tf.keras.applications.densenet.preprocess_input(img)\n",
        "    return img"
      ],
      "metadata": {
        "id": "Vtbv4GU5OPy1"
      },
      "execution_count": 28,
      "outputs": []
    },
    {
      "cell_type": "markdown",
      "source": [
        "## 1.5 Determinacion de productos y que categorías a emplear"
      ],
      "metadata": {
        "id": "rXolhTYs8sWZ"
      }
    },
    {
      "cell_type": "markdown",
      "source": [
        "Se utilizaran todos los productos y sus categorias con el objetivo de cubrir completamente el inventario existente en la tienda."
      ],
      "metadata": {
        "id": "K5ASGtdvXrPa"
      }
    },
    {
      "cell_type": "markdown",
      "source": [
        "### Creación de los conjuntos X, y para train, test y val"
      ],
      "metadata": {
        "id": "9GxrwPJ-wcQP"
      }
    },
    {
      "cell_type": "code",
      "source": [
        "def loop_file(filename, mode=\"train\", data_dir=\"C:/sf/src/taller2/GroceryStoreDataset/dataset/\", image_x=128 , image_y=128):\n",
        "    images_array = []\n",
        "    labels_array = []\n",
        "\n",
        "    df=pd.read_csv(filename, header=None)\n",
        "    df.columns=[\"filepath\", \"class\", \"coarse_class\"]\n",
        "    count=0\n",
        "    flatten=True   #Aplana la imagen (convierte la imagen en una cadena binaria)\n",
        "    normalizar=True   #Normaliza los valores de los pixeles de la imagen\n",
        "    saveWithPickle=False   #Guarda los datos en un archivo pickle\n",
        "    for index, row in df.iterrows():\n",
        "        count=count+1\n",
        "        filepath=row[\"filepath\"]\n",
        "        category=row[\"coarse_class\"]\n",
        "        subcategory=row[\"class\"]\n",
        "        img=load_image(data_dir, filepath)\n",
        "        if img.any():\n",
        "            img = cv2.resize(img, (image_x, image_y))  # Resize to a fixed size\n",
        "            images_array.append(img)\n",
        "            labels_array.append(category)\n",
        "    print(f'Procesadas {count} imagenes')\n",
        "    images=np.array(images_array)\n",
        "    labels=np.array(labels_array)\n",
        "\n",
        "    if flatten:\n",
        "\n",
        "        n_samples, height, width, channels = images.shape\n",
        "        images = images.reshape((n_samples, height * width * channels))\n",
        "        print(f\"{n_samples} Aplanadas.\")\n",
        "    if normalizar:\n",
        "        images = images / 255\n",
        "        print(\"Normalizadas.\")\n",
        "    X = pd.DataFrame( images )\n",
        "    if saveWithPickle:\n",
        "        X.to_pickle(os.path.join(\"C:/sf/src/taller2/\", f\"{mode}_images.pkl\"))\n",
        "        print(\"Guardadas.\")\n",
        "    return X, labels\n"
      ],
      "metadata": {
        "id": "7t1Q12hbn_Qu"
      },
      "execution_count": 29,
      "outputs": []
    },
    {
      "cell_type": "code",
      "source": [
        "#Parametros\n",
        "dim_x=128\n",
        "dim_y=128\n",
        "flatten_array_size=dim_x*dim_y\n",
        "\n",
        "\n",
        "print(\"Proceso de imagenes.\")\n",
        "print('Obtener X_train')\n",
        "X_train, y_train = loop_file(filename=url_train, mode=\"train\", data_dir= data_dir)\n",
        "print('X_train size:', X_train.shape )\n",
        "\n",
        "print('Obtener X_test')\n",
        "X_test, y_test = loop_file(filename=url_test, mode=\"test\", data_dir=data_dir)\n",
        "print('X_test size:', X_test.shape )\n",
        "\n",
        "print('Obtener X_val')\n",
        "X_val, y_val = loop_file(filename=url_val, mode=\"val\", data_dir=data_dir)\n",
        "print('X_val size:', X_val.shape )\n"
      ],
      "metadata": {
        "colab": {
          "base_uri": "https://localhost:8080/"
        },
        "id": "FsVtPJ2YpOeq",
        "outputId": "1cddba94-cd59-48bd-ee18-b49ad494f134"
      },
      "execution_count": 30,
      "outputs": [
        {
          "output_type": "stream",
          "name": "stdout",
          "text": [
            "Proceso de imagenes.\n",
            "Obtener X_train\n",
            "Procesadas 2640 imagenes\n",
            "2640 Aplanadas.\n",
            "Normalizadas.\n",
            "X_train size: (2640, 49152)\n",
            "Obtener X_test\n",
            "Procesadas 2485 imagenes\n",
            "2485 Aplanadas.\n",
            "Normalizadas.\n",
            "X_test size: (2485, 49152)\n",
            "Obtener X_val\n",
            "Procesadas 296 imagenes\n",
            "296 Aplanadas.\n",
            "Normalizadas.\n",
            "X_val size: (296, 49152)\n"
          ]
        }
      ]
    },
    {
      "cell_type": "code",
      "source": [
        "\n"
      ],
      "metadata": {
        "id": "vuqjekNfm271"
      },
      "execution_count": null,
      "outputs": []
    },
    {
      "cell_type": "markdown",
      "source": [
        "## 2. Entrenamiento del modelo de machine learning\n",
        "\n",
        "Utilizando el conjunto de imágenes, construya un modelo que sea capaz de predecir el tipo de producto. Pruebe al menos dos modelos diferentes. Recuerde utilizar de la siguiente manera cada conjunto:\n",
        "\n",
        "*   train para ajustar los hiperparametros de los modelos\n",
        "*   test para seleccionar el mejor modelo\n",
        "*   valid para realizar el analisis de resultados del modelo.\n",
        "\n",
        "Aproxime su solución en el segundo nivel de categorías (Tipos de productos, i.e manzanas, aguacates, bananas, etc)."
      ],
      "metadata": {
        "id": "UJneqt0K9bwu"
      }
    },
    {
      "cell_type": "markdown",
      "source": [
        "## 2.1. Modelo de clasificador Random Forest\n"
      ],
      "metadata": {
        "id": "QW9s-CBG_TUm"
      }
    },
    {
      "cell_type": "code",
      "source": [
        "from sklearn.ensemble import RandomForestClassifier\n",
        "\n",
        "model1={}\n",
        "\n",
        "if use_randomforest:\n",
        "    print('Entrenar')\n",
        "    clf = RandomForestClassifier(n_estimators=100, min_samples_split=2, random_state=0)\n",
        "    clf.fit(X_train, y_train)\n",
        "    print(clf)\n",
        "\n",
        "    print(\"obtener predicciones\")\n",
        "    y_pred = clf.predict(X_test)\n",
        "    print(X_test.shape)\n",
        "\n",
        "    print(\"Presentar metricas\")\n",
        "    from sklearn.metrics import precision_score, recall_score, f1_score, roc_curve, roc_auc_score, auc\n",
        "\n",
        "\n",
        "\n",
        "    model1['precision_score']= precision_score(y_test, y_pred, average='weighted')\n",
        "    model1[\"recall_score\"]   = recall_score(y_test, y_pred, average='weighted')\n",
        "    model1[\"f1_score\"]       = f1_score(y_test, y_pred, average='weighted')\n",
        "    model1[\"roc_auc_score\"]  = roc_auc_score(y_test, clf.predict_proba(X_test), multi_class='ovr')\n",
        "    print(\"Precision:\")\n",
        "\n",
        "    print(\"\\nPrecision:\", model1[\"precision_score\"] )\n",
        "    print(\"\\nRecall:\", model1[\"recall_score\"])\n",
        "    print(\"\\nF1:\", model1[\"f1_score\"])\n",
        "    print(\"\\nROC AUC:\", model1[\"roc_auc_score\"])\n"
      ],
      "metadata": {
        "id": "at3L0GxH9bcR",
        "colab": {
          "base_uri": "https://localhost:8080/"
        },
        "outputId": "69a8f88d-d3b4-42a1-8535-ab50c9f6f0a0"
      },
      "execution_count": null,
      "outputs": [
        {
          "output_type": "stream",
          "name": "stdout",
          "text": [
            "Entrenar\n",
            "RandomForestClassifier(random_state=0)\n",
            "obtener predicciones\n"
          ]
        }
      ]
    },
    {
      "cell_type": "markdown",
      "source": [
        "## 2.2. Modelo de Red Neuronal"
      ],
      "metadata": {
        "id": "_Q249aW99eb1"
      }
    },
    {
      "cell_type": "code",
      "source": [
        "\n",
        "\n",
        "from tensorflow.keras.models import Sequential\n",
        "from tensorflow.keras.layers import Dense\n",
        "import tensorflow.keras as keras\n",
        "\n",
        "\n",
        "\n",
        "unique_values = np.unique(y_train)\n",
        "print(len(unique_values))\n",
        "\n",
        "\n",
        "num_categories = 43\n",
        "\n",
        "y_train = keras.utils.to_categorical(y_train, num_categories)\n",
        "y_val = keras.utils.to_categorical(y_val, num_categories)\n",
        "y_test = keras.utils.to_categorical(y_test, num_categories)\n",
        "\n",
        "\n",
        "model = Sequential()\n",
        "model.add(Dense(units=512, activation='relu', input_shape=(49152,)))\n",
        "model.add(Dense(units = 512, activation='relu'))\n",
        "model.add(Dense(units = num_categories, activation='softmax'))\n",
        "model.summary()\n",
        "model.compile(loss='categorical_crossentropy', metrics=['accuracy'])\n",
        "history = model.fit(\n",
        "    X_train, y_train, epochs=5, verbose=1, validation_data=(X_val, y_val)\n",
        ")\n",
        "\n",
        "# Import necessary libraries\n",
        "import numpy as np\n",
        "from sklearn.metrics import classification_report, confusion_matrix\n",
        "import matplotlib.pyplot as plt\n",
        "import seaborn as sns\n",
        "\n",
        "# Evaluate the model on the test set\n",
        "test_loss, test_accuracy = model.evaluate(X_test, y_test, verbose=1)\n",
        "print(f'Test Loss: {test_loss}')\n",
        "print(f'Test Accuracy: {test_accuracy}')\n",
        "\n",
        "# Predict classes for the test set\n",
        "y_pred = model.predict(X_test)\n",
        "y_pred_classes = np.argmax(y_pred, axis=1)\n",
        "y_true = np.argmax(y_test, axis=1)\n",
        "\n",
        "if model2:\n",
        "    model2['precision_score']= precision_score(y_test, y_pred, average='weighted')\n",
        "    model2[\"recall_score\"]   = recall_score(y_test, y_pred, average='weighted')\n",
        "    model2[\"f1_score\"]       = f1_score(y_test, y_pred, average='weighted')\n",
        "    model2[\"roc_auc_score\"]  = roc_auc_score(y_test, clf.predict_proba(X_test), multi_class='ovr')\n",
        "\n",
        "    print(\"\\nPrecision:\", model2[\"precision_score\"] )\n",
        "    print(\"\\nRecall:\", model2[\"recall_score\"])\n",
        "    print(\"\\nF1:\", model2[\"f1_score\"])\n",
        "    print(\"\\nROC AUC:\", model2[\"roc_auc_score\"])\n",
        "\n",
        "# Classification Report\n",
        "print(\"Classification Report:\")\n",
        "print(classification_report(y_true, y_pred_classes))\n",
        "\n",
        "# Confusion Matrix\n",
        "conf_matrix = confusion_matrix(y_true, y_pred_classes)\n",
        "\n",
        "# Plotting the Confusion Matrix\n",
        "plt.figure(figsize=(10,8))\n",
        "sns.heatmap(conf_matrix, annot=True, fmt='d', cmap='Blues', xticklabels=class_names, yticklabels=class_names)\n",
        "plt.xlabel('Predicted')\n",
        "plt.ylabel('True')\n",
        "plt.title('Confusion Matrix')\n",
        "plt.show()\n",
        "\n"
      ],
      "metadata": {
        "id": "GAclhr_v9fDI",
        "colab": {
          "base_uri": "https://localhost:8080/",
          "height": 670
        },
        "outputId": "b6c270cd-0156-4206-a601-ab6534699bd2"
      },
      "execution_count": null,
      "outputs": [
        {
          "output_type": "stream",
          "name": "stdout",
          "text": [
            "2\n"
          ]
        },
        {
          "output_type": "stream",
          "name": "stderr",
          "text": [
            "/usr/local/lib/python3.10/dist-packages/keras/src/layers/core/dense.py:87: UserWarning: Do not pass an `input_shape`/`input_dim` argument to a layer. When using Sequential models, prefer using an `Input(shape)` object as the first layer in the model instead.\n",
            "  super().__init__(activity_regularizer=activity_regularizer, **kwargs)\n"
          ]
        },
        {
          "output_type": "display_data",
          "data": {
            "text/plain": [
              "\u001b[1mModel: \"sequential_3\"\u001b[0m\n"
            ],
            "text/html": [
              "<pre style=\"white-space:pre;overflow-x:auto;line-height:normal;font-family:Menlo,'DejaVu Sans Mono',consolas,'Courier New',monospace\"><span style=\"font-weight: bold\">Model: \"sequential_3\"</span>\n",
              "</pre>\n"
            ]
          },
          "metadata": {}
        },
        {
          "output_type": "display_data",
          "data": {
            "text/plain": [
              "┏━━━━━━━━━━━━━━━━━━━━━━━━━━━━━━━━━━━━━━┳━━━━━━━━━━━━━━━━━━━━━━━━━━━━━┳━━━━━━━━━━━━━━━━━┓\n",
              "┃\u001b[1m \u001b[0m\u001b[1mLayer (type)                        \u001b[0m\u001b[1m \u001b[0m┃\u001b[1m \u001b[0m\u001b[1mOutput Shape               \u001b[0m\u001b[1m \u001b[0m┃\u001b[1m \u001b[0m\u001b[1m        Param #\u001b[0m\u001b[1m \u001b[0m┃\n",
              "┡━━━━━━━━━━━━━━━━━━━━━━━━━━━━━━━━━━━━━━╇━━━━━━━━━━━━━━━━━━━━━━━━━━━━━╇━━━━━━━━━━━━━━━━━┩\n",
              "│ dense_9 (\u001b[38;5;33mDense\u001b[0m)                      │ (\u001b[38;5;45mNone\u001b[0m, \u001b[38;5;34m512\u001b[0m)                 │      \u001b[38;5;34m25,166,336\u001b[0m │\n",
              "├──────────────────────────────────────┼─────────────────────────────┼─────────────────┤\n",
              "│ dense_10 (\u001b[38;5;33mDense\u001b[0m)                     │ (\u001b[38;5;45mNone\u001b[0m, \u001b[38;5;34m512\u001b[0m)                 │         \u001b[38;5;34m262,656\u001b[0m │\n",
              "├──────────────────────────────────────┼─────────────────────────────┼─────────────────┤\n",
              "│ dense_11 (\u001b[38;5;33mDense\u001b[0m)                     │ (\u001b[38;5;45mNone\u001b[0m, \u001b[38;5;34m43\u001b[0m)                  │          \u001b[38;5;34m22,059\u001b[0m │\n",
              "└──────────────────────────────────────┴─────────────────────────────┴─────────────────┘\n"
            ],
            "text/html": [
              "<pre style=\"white-space:pre;overflow-x:auto;line-height:normal;font-family:Menlo,'DejaVu Sans Mono',consolas,'Courier New',monospace\">┏━━━━━━━━━━━━━━━━━━━━━━━━━━━━━━━━━━━━━━┳━━━━━━━━━━━━━━━━━━━━━━━━━━━━━┳━━━━━━━━━━━━━━━━━┓\n",
              "┃<span style=\"font-weight: bold\"> Layer (type)                         </span>┃<span style=\"font-weight: bold\"> Output Shape                </span>┃<span style=\"font-weight: bold\">         Param # </span>┃\n",
              "┡━━━━━━━━━━━━━━━━━━━━━━━━━━━━━━━━━━━━━━╇━━━━━━━━━━━━━━━━━━━━━━━━━━━━━╇━━━━━━━━━━━━━━━━━┩\n",
              "│ dense_9 (<span style=\"color: #0087ff; text-decoration-color: #0087ff\">Dense</span>)                      │ (<span style=\"color: #00d7ff; text-decoration-color: #00d7ff\">None</span>, <span style=\"color: #00af00; text-decoration-color: #00af00\">512</span>)                 │      <span style=\"color: #00af00; text-decoration-color: #00af00\">25,166,336</span> │\n",
              "├──────────────────────────────────────┼─────────────────────────────┼─────────────────┤\n",
              "│ dense_10 (<span style=\"color: #0087ff; text-decoration-color: #0087ff\">Dense</span>)                     │ (<span style=\"color: #00d7ff; text-decoration-color: #00d7ff\">None</span>, <span style=\"color: #00af00; text-decoration-color: #00af00\">512</span>)                 │         <span style=\"color: #00af00; text-decoration-color: #00af00\">262,656</span> │\n",
              "├──────────────────────────────────────┼─────────────────────────────┼─────────────────┤\n",
              "│ dense_11 (<span style=\"color: #0087ff; text-decoration-color: #0087ff\">Dense</span>)                     │ (<span style=\"color: #00d7ff; text-decoration-color: #00d7ff\">None</span>, <span style=\"color: #00af00; text-decoration-color: #00af00\">43</span>)                  │          <span style=\"color: #00af00; text-decoration-color: #00af00\">22,059</span> │\n",
              "└──────────────────────────────────────┴─────────────────────────────┴─────────────────┘\n",
              "</pre>\n"
            ]
          },
          "metadata": {}
        },
        {
          "output_type": "display_data",
          "data": {
            "text/plain": [
              "\u001b[1m Total params: \u001b[0m\u001b[38;5;34m25,451,051\u001b[0m (97.09 MB)\n"
            ],
            "text/html": [
              "<pre style=\"white-space:pre;overflow-x:auto;line-height:normal;font-family:Menlo,'DejaVu Sans Mono',consolas,'Courier New',monospace\"><span style=\"font-weight: bold\"> Total params: </span><span style=\"color: #00af00; text-decoration-color: #00af00\">25,451,051</span> (97.09 MB)\n",
              "</pre>\n"
            ]
          },
          "metadata": {}
        },
        {
          "output_type": "display_data",
          "data": {
            "text/plain": [
              "\u001b[1m Trainable params: \u001b[0m\u001b[38;5;34m25,451,051\u001b[0m (97.09 MB)\n"
            ],
            "text/html": [
              "<pre style=\"white-space:pre;overflow-x:auto;line-height:normal;font-family:Menlo,'DejaVu Sans Mono',consolas,'Courier New',monospace\"><span style=\"font-weight: bold\"> Trainable params: </span><span style=\"color: #00af00; text-decoration-color: #00af00\">25,451,051</span> (97.09 MB)\n",
              "</pre>\n"
            ]
          },
          "metadata": {}
        },
        {
          "output_type": "display_data",
          "data": {
            "text/plain": [
              "\u001b[1m Non-trainable params: \u001b[0m\u001b[38;5;34m0\u001b[0m (0.00 B)\n"
            ],
            "text/html": [
              "<pre style=\"white-space:pre;overflow-x:auto;line-height:normal;font-family:Menlo,'DejaVu Sans Mono',consolas,'Courier New',monospace\"><span style=\"font-weight: bold\"> Non-trainable params: </span><span style=\"color: #00af00; text-decoration-color: #00af00\">0</span> (0.00 B)\n",
              "</pre>\n"
            ]
          },
          "metadata": {}
        },
        {
          "output_type": "stream",
          "name": "stdout",
          "text": [
            "Epoch 1/5\n"
          ]
        },
        {
          "output_type": "error",
          "ename": "ValueError",
          "evalue": "Arguments `target` and `output` must have the same rank (ndim). Received: target.shape=(None, 43, 2, 2, 43), output.shape=(None, 43)",
          "traceback": [
            "\u001b[0;31m---------------------------------------------------------------------------\u001b[0m",
            "\u001b[0;31mValueError\u001b[0m                                Traceback (most recent call last)",
            "\u001b[0;32m<ipython-input-12-6e4ffcb31a09>\u001b[0m in \u001b[0;36m<cell line: 30>\u001b[0;34m()\u001b[0m\n\u001b[1;32m     28\u001b[0m \u001b[0mmodel\u001b[0m\u001b[0;34m.\u001b[0m\u001b[0mcompile\u001b[0m\u001b[0;34m(\u001b[0m\u001b[0mloss\u001b[0m\u001b[0;34m=\u001b[0m\u001b[0;34m'categorical_crossentropy'\u001b[0m\u001b[0;34m,\u001b[0m \u001b[0mmetrics\u001b[0m\u001b[0;34m=\u001b[0m\u001b[0;34m[\u001b[0m\u001b[0;34m'accuracy'\u001b[0m\u001b[0;34m]\u001b[0m\u001b[0;34m)\u001b[0m\u001b[0;34m\u001b[0m\u001b[0;34m\u001b[0m\u001b[0m\n\u001b[1;32m     29\u001b[0m \u001b[0;34m\u001b[0m\u001b[0m\n\u001b[0;32m---> 30\u001b[0;31m history = model.fit(\n\u001b[0m\u001b[1;32m     31\u001b[0m     \u001b[0mX_train\u001b[0m\u001b[0;34m,\u001b[0m \u001b[0my_train\u001b[0m\u001b[0;34m,\u001b[0m \u001b[0mepochs\u001b[0m\u001b[0;34m=\u001b[0m\u001b[0;36m5\u001b[0m\u001b[0;34m,\u001b[0m \u001b[0mverbose\u001b[0m\u001b[0;34m=\u001b[0m\u001b[0;36m1\u001b[0m\u001b[0;34m,\u001b[0m \u001b[0mvalidation_data\u001b[0m\u001b[0;34m=\u001b[0m\u001b[0;34m(\u001b[0m\u001b[0mX_val\u001b[0m\u001b[0;34m,\u001b[0m \u001b[0my_val\u001b[0m\u001b[0;34m)\u001b[0m\u001b[0;34m\u001b[0m\u001b[0;34m\u001b[0m\u001b[0m\n\u001b[1;32m     32\u001b[0m )\n",
            "\u001b[0;32m/usr/local/lib/python3.10/dist-packages/keras/src/utils/traceback_utils.py\u001b[0m in \u001b[0;36merror_handler\u001b[0;34m(*args, **kwargs)\u001b[0m\n\u001b[1;32m    120\u001b[0m             \u001b[0;31m# To get the full stack trace, call:\u001b[0m\u001b[0;34m\u001b[0m\u001b[0;34m\u001b[0m\u001b[0m\n\u001b[1;32m    121\u001b[0m             \u001b[0;31m# `keras.config.disable_traceback_filtering()`\u001b[0m\u001b[0;34m\u001b[0m\u001b[0;34m\u001b[0m\u001b[0m\n\u001b[0;32m--> 122\u001b[0;31m             \u001b[0;32mraise\u001b[0m \u001b[0me\u001b[0m\u001b[0;34m.\u001b[0m\u001b[0mwith_traceback\u001b[0m\u001b[0;34m(\u001b[0m\u001b[0mfiltered_tb\u001b[0m\u001b[0;34m)\u001b[0m \u001b[0;32mfrom\u001b[0m \u001b[0;32mNone\u001b[0m\u001b[0;34m\u001b[0m\u001b[0;34m\u001b[0m\u001b[0m\n\u001b[0m\u001b[1;32m    123\u001b[0m         \u001b[0;32mfinally\u001b[0m\u001b[0;34m:\u001b[0m\u001b[0;34m\u001b[0m\u001b[0;34m\u001b[0m\u001b[0m\n\u001b[1;32m    124\u001b[0m             \u001b[0;32mdel\u001b[0m \u001b[0mfiltered_tb\u001b[0m\u001b[0;34m\u001b[0m\u001b[0;34m\u001b[0m\u001b[0m\n",
            "\u001b[0;32m/usr/local/lib/python3.10/dist-packages/keras/src/backend/tensorflow/nn.py\u001b[0m in \u001b[0;36mcategorical_crossentropy\u001b[0;34m(target, output, from_logits, axis)\u001b[0m\n\u001b[1;32m    552\u001b[0m         )\n\u001b[1;32m    553\u001b[0m     \u001b[0;32mif\u001b[0m \u001b[0mlen\u001b[0m\u001b[0;34m(\u001b[0m\u001b[0mtarget\u001b[0m\u001b[0;34m.\u001b[0m\u001b[0mshape\u001b[0m\u001b[0;34m)\u001b[0m \u001b[0;34m!=\u001b[0m \u001b[0mlen\u001b[0m\u001b[0;34m(\u001b[0m\u001b[0moutput\u001b[0m\u001b[0;34m.\u001b[0m\u001b[0mshape\u001b[0m\u001b[0;34m)\u001b[0m\u001b[0;34m:\u001b[0m\u001b[0;34m\u001b[0m\u001b[0;34m\u001b[0m\u001b[0m\n\u001b[0;32m--> 554\u001b[0;31m         raise ValueError(\n\u001b[0m\u001b[1;32m    555\u001b[0m             \u001b[0;34m\"Arguments `target` and `output` must have the same rank \"\u001b[0m\u001b[0;34m\u001b[0m\u001b[0;34m\u001b[0m\u001b[0m\n\u001b[1;32m    556\u001b[0m             \u001b[0;34m\"(ndim). Received: \"\u001b[0m\u001b[0;34m\u001b[0m\u001b[0;34m\u001b[0m\u001b[0m\n",
            "\u001b[0;31mValueError\u001b[0m: Arguments `target` and `output` must have the same rank (ndim). Received: target.shape=(None, 43, 2, 2, 43), output.shape=(None, 43)"
          ]
        }
      ]
    },
    {
      "cell_type": "markdown",
      "source": [
        "## 3. Analisis de resultados del modelo\n",
        "\n",
        "Calcule las métricas de evaluación para su modelo, y explique su significado y su valor para la empresa. Justifique la calidad de su modelo, qué elementos impactaron positivamente dichas métricas, y qué oportunidades de mejora encuentra."
      ],
      "metadata": {
        "id": "ehtA2Lbn9fu5"
      }
    },
    {
      "cell_type": "markdown",
      "source": [
        "## 3.1. Modelo de clasificador Random Forest\n"
      ],
      "metadata": {
        "id": "_t9xNNNyACCH"
      }
    },
    {
      "cell_type": "code",
      "source": [],
      "metadata": {
        "id": "UOnneRYYAH0T"
      },
      "execution_count": null,
      "outputs": []
    },
    {
      "cell_type": "markdown",
      "source": [
        "## 3.2. Modelo de Red Neuronal"
      ],
      "metadata": {
        "id": "KG91sQ6yAJse"
      }
    },
    {
      "cell_type": "code",
      "source": [],
      "metadata": {
        "id": "VA5-nIm6AI42"
      },
      "execution_count": null,
      "outputs": []
    },
    {
      "cell_type": "markdown",
      "source": [
        "## 4. Generacion de Valor\n",
        "\n",
        "y determine la ganancia esperada para el Supermercado con la implementación del modelo por cada predicción acertada, así como el punto a partir del cual la inversión en el modelo empezará a dejar dividendos. Realice una estimación paramétrica, haciendo explícitos todos los supuestos usando datos, incluyendo fuentes aplicables y estadísticas recientes. Para este punto debe considerar:\n",
        "\n",
        "*   Costos de tiempo asociado al registro de productos\n",
        "*   Ahorro de tiempo teorico de su modelo\n",
        "*   Costo de errores del modelo\n",
        "*   Ahorro real por prediccion acertada\n",
        "*   ROI tomando en cuenta los costos de desarrollo y depliegue del modelo\n",
        "\n",
        "\n"
      ],
      "metadata": {
        "id": "Z7W2omIuAIeE"
      }
    },
    {
      "cell_type": "markdown",
      "source": [
        "## 5. Insights\n",
        "Redacte un informe ejecutivo o una presentación corta en donde muestre los hallazgos o insights más importantes en términos del modelo y los resultados. Ofrezca una recomendación final para el negocio."
      ],
      "metadata": {
        "id": "kbnfjiyHA_FY"
      }
    },
    {
      "cell_type": "code",
      "source": [],
      "metadata": {
        "id": "qSBOUc46BGRc"
      },
      "execution_count": null,
      "outputs": []
    },
    {
      "cell_type": "markdown",
      "source": [
        "## 6. Bono\n",
        "\n",
        "Realice su modelo usando el nivel detallado de tipos de productos y sus marcas. (por ej. Manzanas Golden-Delicious, Granny-Smith, etc)."
      ],
      "metadata": {
        "id": "ONwj4rg9BGrN"
      }
    },
    {
      "cell_type": "code",
      "source": [],
      "metadata": {
        "id": "-R_cBoy-A-px"
      },
      "execution_count": null,
      "outputs": []
    },
    {
      "cell_type": "code",
      "source": [
        "#!pip install scikit-learn pandas numpy opencv-python\n",
        "\n",
        "\n",
        "#training\n",
        "import pandas as pd\n",
        "import numpy as np\n",
        "import cv2\n",
        "import os\n",
        "from sklearn.model_selection import train_test_split\n",
        "from sklearn.ensemble import RandomForestClassifier\n",
        "from sklearn.metrics import accuracy_score\n",
        "\n",
        "# Load the dataset\n",
        "#data_dir = '/kaggle/input/apples/golden-delicious/'\n",
        "#labels_file = os.path.join(data_dir, 'classes.csv')\n",
        "labels_file =\"https://raw.githubusercontent.com/amrios80/GroceryStoreDataset/refs/heads/master/dataset/classes.csv\"\n",
        "label_file_columns=[\"class_name\",\"class_id\",\"coarse_class_name\",\"coarse_class_id\",\"icon_path\",\"product_description_path\"]\n",
        "\n",
        "# Read the labels\n",
        "labels_df = pd.read_csv(labels_file)\n",
        "labels_df.columns=label_file_columns\n",
        "#print(labels_df)\n",
        "\n",
        "def  load_file(data_dir='', mode=\"train\"):\n",
        "    train_file=f\"{data_dir}{mode}.txt\"\n",
        "    dftrain_file=pd.read_csv(train_file)\n",
        "    train_file_columns=[\"filename\",\"class_id\", \"coarse_class_id\"]\n",
        "    dftrain_file.columns=train_file_columns\n",
        "    return dftrain_file\n",
        "#print(dftrain_file)\n",
        "\n",
        "data_dir =\"https://raw.githubusercontent.com/amrios80/GroceryStoreDataset/refs/heads/master/dataset/\"\n",
        "\n",
        "dftrain_file=load_file(data_dir=data_dir, mode=\"train\")\n",
        "\n",
        "print('rows:' + str(dftrain_file.shape[0]))\n",
        "\n"
      ],
      "metadata": {
        "execution": {
          "iopub.status.busy": "2024-10-28T23:33:10.628042Z",
          "iopub.execute_input": "2024-10-28T23:33:10.628839Z",
          "iopub.status.idle": "2024-10-28T23:33:19.416887Z",
          "shell.execute_reply.started": "2024-10-28T23:33:10.628792Z",
          "shell.execute_reply": "2024-10-28T23:33:19.415631Z"
        },
        "trusted": true,
        "id": "c_ukxBIa74EF"
      },
      "execution_count": null,
      "outputs": []
    },
    {
      "cell_type": "code",
      "source": [
        "# Function to load images into an array\n",
        "def load_images(data_dir, df_files, image_x=348, image_y=348 ):\n",
        "    images = []\n",
        "    labels = []\n",
        "    metadata=[]\n",
        "    for index, row in df_files.iterrows():\n",
        "        img_path = os.path.join(data_dir, row['filename'])\n",
        "        #print(img_path)\n",
        "        img = cv2.imread(img_path)\n",
        "\n",
        "        # Get dimensions\n",
        "        size_y, size_x = img.shape[:2]  # Height, Width\n",
        "        channels = img.shape[2] if len(img.shape) == 3 else 1  # Number of channels\n",
        "\n",
        "        # Determine color mode\n",
        "        color_mode = \"RGB\" if channels == 3 else \"Grayscale\"\n",
        "\n",
        "        metadata.append( {\"filename\": img_path,   \"size_x\": size_x, \"size_y\": size_y, \"channels\": channels, \"color_mode\": color_mode}   )\n",
        "        img = cv2.resize(img, (image_x, image_y))  # Resize to a fixed size\n",
        "        images.append(img)\n",
        "        labels.append(row['class_id'])\n",
        "\n",
        "\n",
        "\n",
        "    return np.array(images), np.array(labels)\n",
        "\n",
        "\n",
        "def preprocess_dataset(data_dir='', mode=\"train\" , normalize=False, flatten=False, image_x=348, image_y=348 ):\n",
        "    dftrain_file = load_file(data_dir, mode)\n",
        "    images, labels = load_images(data_dir, dftrain_file , image_x, image_y )\n",
        "    # Normalize the images\n",
        "    # This line normalizes the pixel values of the images by dividing them by 255.0. This scales the pixel values from the original range (typically 0-255 for RGB images) to the range 0-1, which is a common normalization technique for neural networks.\n",
        "    if normalize:\n",
        "        images = images / 255.0\n",
        "    # Flatten the images for the classifier\n",
        "    #This reshapes the images from their original shape\n",
        "    # (likely (n_samples, height, width, channels)) to a flat 2D array.\n",
        "    # The new shape is (n_samples, height * width * channels), where:\n",
        "    # height * width * channels represents the total number of pixels in each image.\n",
        "    # n_samples is the number of images in the dataset.\n",
        "    if flatten:\n",
        "        n_samples, height, width, channels = images.shape\n",
        "        print('before shaping:')\n",
        "        print(images.shape)\n",
        "        print( n_samples, height, width, channels )\n",
        "        images = images.reshape((n_samples, height * width * channels))\n",
        "        print('after reshaping:')\n",
        "        print(images.shape)\n",
        "    return images, labels\n",
        "\n",
        "\n",
        "def preprocess_dataset_no_flattening(data_dir='', mode=\"train\" ):\n",
        "    dftrain_file = load_file(data_dir, mode)\n",
        "    images, labels = load_images(data_dir, dftrain_file, image_x=128, image_y=128 )\n",
        "    # Normalize the images\n",
        "    # This line normalizes the pixel values of the images by dividing them by 255.0. This scales the pixel values from the original range (typically 0-255 for RGB images) to the range 0-1, which is a common normalization technique for neural networks.\n",
        "    images = images / 255.0\n",
        "    print(images.shape)\n",
        "    return images, labels\n",
        "\n",
        "X_train, y_train = preprocess_dataset( data_dir,\"train\" )\n",
        "print(X_train)\n",
        "print(X_train.shape)\n",
        "print(y_train)\n",
        "\n",
        "X_test, y_test = preprocess_dataset( data_dir,\"test\" )\n",
        "\n",
        "\n",
        "# Encode the labels if necessary\n",
        "# from sklearn.preprocessing import LabelEncoder\n",
        "# le = LabelEncoder()\n",
        "# labels = le.fit_transform(labels)\n",
        "\n",
        "# Split the data\n",
        "#X_train, X_test, y_train, y_test = train_test_split(images, labels, test_size=0.0, random_state=42)\n",
        "#X_train =images\n",
        "#y_train =labels\n",
        "\n",
        "print(X_train.shape)\n",
        "\n",
        "###############\n",
        "\n",
        "# Initialize the classifier\n",
        "clf = RandomForestClassifier(n_estimators=100, random_state=42)\n",
        "\n",
        "# Train the classifier\n",
        "clf.fit(X_train, y_train)\n",
        "\n",
        "# Make predictions\n",
        "y_pred = clf.predict(X_test)\n",
        "\n",
        "# Evaluate the classifier\n",
        "accuracy = accuracy_score(y_test, y_pred)\n",
        "print(f'Accuracy: {accuracy * 100:.2f}%')"
      ],
      "metadata": {
        "id": "06a-MxD5-ip1"
      },
      "execution_count": null,
      "outputs": []
    },
    {
      "cell_type": "code",
      "source": [
        "import xgboost as xgb\n",
        "from sklearn.metrics import accuracy_score\n",
        "\n",
        "# Initialize the classifier\n",
        "xgb_clf = xgb.XGBClassifier(n_estimators=100, learning_rate=0.1, random_state=42)\n",
        "\n",
        "# Train the classifier\n",
        "xgb_clf.fit(X_train, y_train)\n",
        "\n",
        "# Make predictions\n",
        "y_pred = xgb_clf.predict(X_test)\n",
        "\n",
        "# Evaluate the classifier\n",
        "accuracy = accuracy_score(y_test, y_pred)\n",
        "print(f'XGBoost Accuracy: {accuracy * 100:.2f}%')\n"
      ],
      "metadata": {
        "execution": {
          "iopub.status.busy": "2024-10-28T23:23:12.572640Z",
          "iopub.execute_input": "2024-10-28T23:23:12.573092Z",
          "iopub.status.idle": "2024-10-28T23:28:14.238742Z",
          "shell.execute_reply.started": "2024-10-28T23:23:12.573048Z",
          "shell.execute_reply": "2024-10-28T23:28:14.237191Z"
        },
        "trusted": true,
        "id": "c02bLRql74EH"
      },
      "execution_count": null,
      "outputs": []
    },
    {
      "cell_type": "code",
      "source": [
        "import tensorflow as tf\n",
        "from tensorflow.keras.models import Sequential\n",
        "from tensorflow.keras.layers import Dense, Flatten, Conv2D, MaxPooling2D\n",
        "\n",
        "\n",
        "X_train, y_train = preprocess_dataset_no_flattening( data_dir,\"train\" )\n",
        "X_test, y_test = preprocess_dataset_no_flattening( data_dir,\"test\" )\n",
        "\n",
        "# Define the model\n",
        "model = Sequential([\n",
        "    Conv2D(32, (3, 3), activation='relu', input_shape=(128, 128, 3)),\n",
        "    MaxPooling2D((2, 2)),\n",
        "    Flatten(),\n",
        "    Dense(128, activation='relu'),\n",
        "    Dense(10, activation='softmax')  # Assuming 10 classes\n",
        "])\n",
        "\n",
        "# Compile the model\n",
        "model.compile(optimizer='adam', loss='sparse_categorical_crossentropy', metrics=['accuracy'])\n",
        "\n",
        "# Train the model\n",
        "model.fit(X_train, y_train, epochs=10, validation_data=(X_test, y_test))\n",
        "\n",
        "# Evaluate the model\n",
        "loss, accuracy = model.evaluate(X_test, y_test)\n",
        "print(f'CNN Accuracy: {accuracy * 100:.2f}%')\n"
      ],
      "metadata": {
        "execution": {
          "iopub.status.busy": "2024-10-28T23:33:24.709776Z",
          "iopub.execute_input": "2024-10-28T23:33:24.710655Z",
          "iopub.status.idle": "2024-10-28T23:34:13.055423Z",
          "shell.execute_reply.started": "2024-10-28T23:33:24.710605Z",
          "shell.execute_reply": "2024-10-28T23:34:13.054214Z"
        },
        "trusted": true,
        "id": "Io8MqXDp74EI"
      },
      "execution_count": null,
      "outputs": []
    },
    {
      "cell_type": "code",
      "source": [
        "from sklearn.model_selection import GridSearchCV\n",
        "\n",
        "# Define the parameter grid\n",
        "param_grid = {\n",
        "    'n_estimators': [100, 200, 300],\n",
        "    'max_depth': [None, 10, 20, 30],\n",
        "    'min_samples_split': [2, 5, 10]\n",
        "}\n",
        "\n",
        "# Initialize the classifier\n",
        "rf_clf = RandomForestClassifier(random_state=42)\n",
        "\n",
        "# Initialize GridSearchCV\n",
        "grid_search = GridSearchCV(estimator=rf_clf, param_grid=param_grid, cv=3, n_jobs=-1, verbose=2)\n",
        "\n",
        "# Fit the model\n",
        "grid_search.fit(X_train, y_train)\n",
        "\n",
        "# Get the best parameters and accuracy\n",
        "best_params = grid_search.best_params_\n",
        "best_accuracy = grid_search.best_score_\n",
        "print(f'Best Parameters: {best_params}')\n",
        "print(f'Best Accuracy: {best_accuracy * 100:.2f}%')\n"
      ],
      "metadata": {
        "execution": {
          "iopub.status.busy": "2024-10-28T20:50:10.756112Z",
          "iopub.execute_input": "2024-10-28T20:50:10.757446Z",
          "iopub.status.idle": "2024-10-28T20:52:28.496577Z",
          "shell.execute_reply.started": "2024-10-28T20:50:10.757393Z",
          "shell.execute_reply": "2024-10-28T20:52:28.494959Z"
        },
        "trusted": true,
        "id": "qo-2mzuy74EI"
      },
      "execution_count": null,
      "outputs": []
    },
    {
      "cell_type": "code",
      "source": [
        "from sklearn.ensemble import VotingClassifier\n",
        "\n",
        "# Initialize individual classifiers\n",
        "clf1 = RandomForestClassifier(n_estimators=100, random_state=42)\n",
        "clf2 = xgb.XGBClassifier(n_estimators=100, learning_rate=0.1, random_state=42)\n",
        "clf3 = LogisticRegression(random_state=42)\n",
        "\n",
        "# Initialize the Voting Classifier\n",
        "voting_clf = VotingClassifier(estimators=[\n",
        "    ('rf', clf1), ('xgb', clf2), ('lr', clf3)], voting='soft')\n",
        "\n",
        "# Train the classifier\n",
        "voting_clf.fit(X_train, y_train)\n",
        "\n",
        "# Make predictions\n",
        "y_pred = voting_clf.predict(X_test)\n",
        "\n",
        "# Evaluate the classifier\n",
        "accuracy = accuracy_score(y_test, y_pred)\n",
        "print(f'Voting Classifier Accuracy: {accuracy * 100:.2f}%')\n"
      ],
      "metadata": {
        "execution": {
          "iopub.status.busy": "2024-10-28T21:21:21.434391Z",
          "iopub.execute_input": "2024-10-28T21:21:21.434975Z",
          "iopub.status.idle": "2024-10-28T21:21:21.523854Z",
          "shell.execute_reply.started": "2024-10-28T21:21:21.434923Z",
          "shell.execute_reply": "2024-10-28T21:21:21.522014Z"
        },
        "trusted": true,
        "id": "bTPgwu7d74EJ"
      },
      "execution_count": null,
      "outputs": []
    },
    {
      "cell_type": "code",
      "source": [
        "5. Feature Engineering\n",
        "Improving the quality of your features can significantly boost model performance. This includes creating new features, transforming existing ones, and selecting the most relevant features.\n",
        "\n",
        "6. Data Augmentation\n",
        "For image data, augmenting your dataset by applying transformations like rotations, flips, and color adjustments can help improve model generalization."
      ],
      "metadata": {
        "id": "Egnold7H74EJ"
      },
      "execution_count": null,
      "outputs": []
    }
  ]
}